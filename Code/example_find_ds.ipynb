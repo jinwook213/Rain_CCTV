{
 "cells": [
  {
   "cell_type": "code",
   "execution_count": 1,
   "metadata": {},
   "outputs": [
    {
     "data": {
      "text/plain": [
       "'\\nThis is code for finding ds (raindrop diameter) from the rain streak information \\n\\n@author: Jay\\n'"
      ]
     },
     "execution_count": 1,
     "metadata": {},
     "output_type": "execute_result"
    }
   ],
   "source": [
    "# -*- coding: utf-8 -*-\n",
    "\"\"\"\n",
    "This is code for finding ds (raindrop diameter) from the rain streak information \n",
    "\n",
    "@author: Jay\n",
    "\"\"\""
   ]
  },
  {
   "cell_type": "code",
   "execution_count": 2,
   "metadata": {},
   "outputs": [],
   "source": [
    "from scipy.special import lambertw\n",
    "import numpy as np \n",
    "import matplotlib.pyplot as plt\n",
    "\n",
    "lp = 60\n",
    "dp = 10\n",
    "\n",
    "f = 4.5 # focal length, mm\n",
    "df = 1000 # focus distance, mm\n",
    "hs = 5.7 * (640/1080) # height of sensor, mm\n",
    "ws =  7.6 * (640/1920) # width of sensor, mm\n",
    "N = 1.6 # F-number \n",
    "cp = 0.005 # circle of confusion, mm\n",
    "hp = 640 # height of cropped image (number of pixels)\n",
    "wp = 640 # width of cropped image (number of pixels)\n",
    "t = 1/250 # exposure time (second)       \n",
    "\n",
    "# calculate s (distance) \n",
    "A = -0.6* ( (df-f)/(df*f) ) * (hs/hp) * dp\n",
    "B = ( (df-f)/(df*f) ) * (hs/hp) * lp\n",
    "C = (10300*t) * (A/B) * (np.exp(9650*t*A/B))       \n",
    "s = (9650*t*A-B*lambertw(C, 0)) / (A*B)\n",
    "s = np.real(s)\n",
    "\n",
    "# calculate ls and ds    \n",
    "ds = ((df-f)/(df*f)) * (ws/wp) * dp * s"
   ]
  },
  {
   "cell_type": "code",
   "execution_count": 2,
   "metadata": {},
   "outputs": [
    {
     "data": {
      "text/plain": [
       "4.705627349879303"
      ]
     },
     "execution_count": 2,
     "metadata": {},
     "output_type": "execute_result"
    }
   ],
   "source": [
    "ds"
   ]
  }
 ],
 "metadata": {
  "kernelspec": {
   "display_name": "base",
   "language": "python",
   "name": "python3"
  },
  "language_info": {
   "codemirror_mode": {
    "name": "ipython",
    "version": 3
   },
   "file_extension": ".py",
   "mimetype": "text/x-python",
   "name": "python",
   "nbconvert_exporter": "python",
   "pygments_lexer": "ipython3",
   "version": "3.9.13"
  },
  "orig_nbformat": 4,
  "vscode": {
   "interpreter": {
    "hash": "4383a54d7ab9ef147a8b32e95f1bfc8f786d377bb31c1a16c48f8f8c8866188a"
   }
  }
 },
 "nbformat": 4,
 "nbformat_minor": 2
}
